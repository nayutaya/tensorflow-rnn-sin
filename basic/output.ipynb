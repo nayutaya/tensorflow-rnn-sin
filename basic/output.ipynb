{
 "cells": [
  {
   "cell_type": "code",
   "execution_count": 1,
   "metadata": {
    "collapsed": true
   },
   "outputs": [],
   "source": [
    "import pandas as pd\n",
    "import numpy as np\n",
    "%matplotlib inline"
   ]
  },
  {
   "cell_type": "code",
   "execution_count": 2,
   "metadata": {
    "collapsed": false
   },
   "outputs": [
    {
     "data": {
      "text/plain": [
       "array([-0.00230449,  0.12645769,  0.25513193,  0.37867919,  0.49122247,\n",
       "        0.58742154,  0.66392732,  0.72027004,  0.75846982,  0.78176367,\n",
       "        0.79343021,  0.79618788,  0.79205906,  0.78244913,  0.76827681,\n",
       "        0.75009108,  0.72815537,  0.70250332,  0.67297018,  0.6392076 ,\n",
       "        0.60068524,  0.556687  ,  0.50630701,  0.44846091,  0.3819339 ,\n",
       "        0.30550283,  0.2181865 ,  0.11967847,  0.01096588, -0.10501133,\n",
       "       -0.22304492, -0.33618754, -0.4372842 , -0.52087873, -0.58440125,\n",
       "       -0.62805974, -0.65382326, -0.66428483, -0.66188794, -0.64857084,\n",
       "       -0.62568587, -0.59404778, -0.55402541, -0.50564384, -0.44869092,\n",
       "       -0.38284123, -0.30781174, -0.22356203, -0.13053736, -0.02992305,\n",
       "        0.07615122,  0.18454066,  0.29122081,  0.39167634,  0.48156038,\n",
       "        0.5575211 ,  0.61787581,  0.66274619,  0.69359505,  0.71250546,\n",
       "        0.72158134,  0.72262001,  0.7170037 ,  0.7057097 ,  0.68936265,\n",
       "        0.66828918,  0.64256263,  0.61203134,  0.57633686,  0.5349226 ,\n",
       "        0.4870449 ,  0.43179634,  0.36816373,  0.29515275,  0.21202227,\n",
       "        0.11866653,  0.01613668, -0.09282928, -0.20357499, -0.30997324,\n",
       "       -0.40566462, -0.48561886, -0.54718286, -0.59011608, -0.61583698,\n",
       "       -0.6264745 , -0.62415469, -0.61062741, -0.58714384, -0.55447197,\n",
       "       -0.51297033, -0.46268478, -0.40346384, -0.33509773, -0.25749481,\n",
       "       -0.17089984, -0.07613921,  0.02515081,  0.13038298,  0.23604253])"
      ]
     },
     "execution_count": 2,
     "metadata": {},
     "output_type": "execute_result"
    }
   ],
   "source": [
    "outputs = np.load(\"output.npy\")\n",
    "outputs"
   ]
  },
  {
   "cell_type": "code",
   "execution_count": 3,
   "metadata": {
    "collapsed": false
   },
   "outputs": [
    {
     "data": {
      "text/plain": [
       "<matplotlib.axes._subplots.AxesSubplot at 0x10f3bc240>"
      ]
     },
     "execution_count": 3,
     "metadata": {},
     "output_type": "execute_result"
    },
    {
     "data": {
      "image/png": "[encoded data removed]",
      "text/plain": [
       "<matplotlib.figure.Figure at 0x10f32dba8>"
      ]
     },
     "metadata": {},
     "output_type": "display_data"
    }
   ],
   "source": [
    "pd.Series(outputs).plot()"
   ]
  },
  {
   "cell_type": "code",
   "execution_count": null,
   "metadata": {
    "collapsed": true
   },
   "outputs": [],
   "source": []
  }
 ],
 "metadata": {
  "kernelspec": {
   "display_name": "Python 3",
   "language": "python",
   "name": "python3"
  },
  "language_info": {
   "codemirror_mode": {
    "name": "ipython",
    "version": 3
   },
   "file_extension": ".py",
   "mimetype": "text/x-python",
   "name": "python",
   "nbconvert_exporter": "python",
   "pygments_lexer": "ipython3",
   "version": "3.5.1"
  }
 },
 "nbformat": 4,
 "nbformat_minor": 0
}
